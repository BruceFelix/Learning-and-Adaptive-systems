{
 "cells": [
  {
   "cell_type": "code",
   "execution_count": 8,
   "metadata": {},
   "outputs": [
    {
     "name": "stdout",
     "output_type": "stream",
     "text": [
      "Training data shape:  (60000, 28, 28)\n",
      "Test data shape (10000, 28, 28)\n",
      "First 5 training lables as one-hot encoded vectors:\n",
      " [5 0 4 1 9]\n"
     ]
    },
    {
     "data": {
      "text/plain": [
       "'\\n[[0, 0, 0, 0, 0, 1, 0, 0, 0, 0]\\n [1, 0, 0, 0, 0, 0, 0, 0, 0, 0]\\n [0, 0, 0, 0, 1, 0, 0, 0, 0, 0]\\n [0, 1, 0, 0, 0, 0, 0, 0, 0, 0]\\n [0, 0, 0, 0, 0, 0, 0, 0, 0, 1]]\\n'"
      ]
     },
     "execution_count": 8,
     "metadata": {},
     "output_type": "execute_result"
    }
   ],
   "source": [
    "#import dataset\n",
    "from keras.datasets import mnist\n",
    "\n",
    "#setup train and test splits\n",
    "(x_train, y_train), (x_test, y_test) = mnist.load_data()\n",
    "\n",
    "#format data\n",
    "print(\"Training data shape: \", x_train.shape)\n",
    "print(\"Test data shape\", x_test.shape)\n",
    "\n",
    "\n",
    "#Flatten the images\n",
    "image_vector_size = 28 * 28\n",
    "x_train = x_train.reshape(x_train.shape[0], image_vector_size)\n",
    "x_test = x_test.reshape(x_test.shape[0], image_vector_size)\n",
    "print(\"First 5 training lables as one-hot encoded vectors:\\n\", y_train[:5])\n",
    "\n",
    "# This is the one-hot version of: [5, 0, 4, 1, 9]\n",
    "\"\"\"\n",
    "[[0, 0, 0, 0, 0, 1, 0, 0, 0, 0]\n",
    " [1, 0, 0, 0, 0, 0, 0, 0, 0, 0]\n",
    " [0, 0, 0, 0, 1, 0, 0, 0, 0, 0]\n",
    " [0, 1, 0, 0, 0, 0, 0, 0, 0, 0]\n",
    " [0, 0, 0, 0, 0, 0, 0, 0, 0, 1]]\n",
    "\"\"\""
   ]
  },
  {
   "cell_type": "code",
   "execution_count": null,
   "metadata": {},
   "outputs": [],
   "source": []
  }
 ],
 "metadata": {
  "interpreter": {
   "hash": "675d003f4121fa8a9c4472d36bcf63d3fcc48548c21532a657b6c4f8b621e542"
  },
  "kernelspec": {
   "display_name": "Python 3.10.2 64-bit",
   "language": "python",
   "name": "python3"
  },
  "language_info": {
   "codemirror_mode": {
    "name": "ipython",
    "version": 3
   },
   "file_extension": ".py",
   "mimetype": "text/x-python",
   "name": "python",
   "nbconvert_exporter": "python",
   "pygments_lexer": "ipython3",
   "version": "3.10.2"
  },
  "orig_nbformat": 4
 },
 "nbformat": 4,
 "nbformat_minor": 2
}
